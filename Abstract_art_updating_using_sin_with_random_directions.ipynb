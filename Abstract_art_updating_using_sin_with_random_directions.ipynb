{
 "cells": [
  {
   "cell_type": "code",
   "execution_count": 2,
   "metadata": {},
   "outputs": [],
   "source": [
    "from tensorflow.keras.initializers import RandomUniform, RandomNormal, Constant\n",
    "from Model import Model, generate, generate_pixel_map\n",
    "from scipy.io.wavfile import write\n",
    "from random import random\n",
    "import matplotlib.pyplot as plt\n",
    "import cv2 as cv\n",
    "import numpy as np\n",
    "\n",
    "def create_weight_map(model, speed = 0.005):\n",
    "    weight_map = {}\n",
    "    directions = {}\n",
    "    for lay in model.model.layers:\n",
    "        if 'dense' in lay.name:\n",
    "            weight_map[lay.name] = np.array(lay.get_weights())\n",
    "            directions[lay.name] = weight_map[lay.name][0] * speed\n",
    "    \n",
    "    \n",
    "    return weight_map, directions\n",
    "\n",
    "speed = 0.0005\n",
    "\n",
    "model = Model(3, 12, 16, 'tanh', RandomNormal, 0, 1)\n",
    "weight_map, directions = create_weight_map(model, speed)"
   ]
  },
  {
   "cell_type": "code",
   "execution_count": 3,
   "metadata": {},
   "outputs": [
    {
     "ename": "ValueError",
     "evalue": "cannot reshape array of size 8699840 into shape (3508,2480,3)",
     "output_type": "error",
     "traceback": [
      "\u001b[1;31m---------------------------------------------------------------------------\u001b[0m",
      "\u001b[1;31mValueError\u001b[0m                                Traceback (most recent call last)",
      "\u001b[1;32m<ipython-input-3-ebbf3b615cdb>\u001b[0m in \u001b[0;36m<module>\u001b[1;34m\u001b[0m\n\u001b[0;32m      7\u001b[0m \u001b[1;32mfor\u001b[0m \u001b[0mi\u001b[0m \u001b[1;32min\u001b[0m \u001b[0mrange\u001b[0m\u001b[1;33m(\u001b[0m\u001b[1;36m0\u001b[0m\u001b[1;33m,\u001b[0m \u001b[1;36m240\u001b[0m\u001b[1;33m)\u001b[0m\u001b[1;33m:\u001b[0m\u001b[1;33m\u001b[0m\u001b[1;33m\u001b[0m\u001b[0m\n\u001b[0;32m      8\u001b[0m         \u001b[0mimg\u001b[0m \u001b[1;33m=\u001b[0m \u001b[0mmodel\u001b[0m\u001b[1;33m.\u001b[0m\u001b[0mpredict\u001b[0m\u001b[1;33m(\u001b[0m\u001b[0mpixel_map\u001b[0m\u001b[1;33m)\u001b[0m\u001b[1;33m\u001b[0m\u001b[1;33m\u001b[0m\u001b[0m\n\u001b[1;32m----> 9\u001b[1;33m         \u001b[0mcv\u001b[0m\u001b[1;33m.\u001b[0m\u001b[0mimwrite\u001b[0m\u001b[1;33m(\u001b[0m\u001b[1;34mf'body_experiment_1/{i}.jpg'\u001b[0m\u001b[1;33m,\u001b[0m \u001b[0mnp\u001b[0m\u001b[1;33m.\u001b[0m\u001b[0mreshape\u001b[0m\u001b[1;33m(\u001b[0m\u001b[1;33m(\u001b[0m\u001b[0mimg\u001b[0m\u001b[1;33m*\u001b[0m\u001b[1;36m255\u001b[0m\u001b[1;33m)\u001b[0m\u001b[1;33m.\u001b[0m\u001b[0mastype\u001b[0m\u001b[1;33m(\u001b[0m\u001b[0mint\u001b[0m\u001b[1;33m)\u001b[0m\u001b[1;33m,\u001b[0m \u001b[1;33m(\u001b[0m\u001b[0mh\u001b[0m\u001b[1;33m,\u001b[0m \u001b[0mw\u001b[0m\u001b[1;33m,\u001b[0m \u001b[1;36m3\u001b[0m\u001b[1;33m)\u001b[0m\u001b[1;33m)\u001b[0m\u001b[1;33m)\u001b[0m\u001b[1;33m\u001b[0m\u001b[1;33m\u001b[0m\u001b[0m\n\u001b[0m\u001b[0;32m     10\u001b[0m         \u001b[0mweight_map\u001b[0m\u001b[1;33m[\u001b[0m\u001b[0mmodel\u001b[0m\u001b[1;33m.\u001b[0m\u001b[0mmodel\u001b[0m\u001b[1;33m.\u001b[0m\u001b[0mlayers\u001b[0m\u001b[1;33m[\u001b[0m\u001b[1;36m0\u001b[0m\u001b[1;33m]\u001b[0m\u001b[1;33m.\u001b[0m\u001b[0mname\u001b[0m\u001b[1;33m]\u001b[0m\u001b[1;33m[\u001b[0m\u001b[1;36m0\u001b[0m\u001b[1;33m]\u001b[0m \u001b[1;33m+=\u001b[0m \u001b[0mdirections\u001b[0m\u001b[1;33m[\u001b[0m\u001b[0mmodel\u001b[0m\u001b[1;33m.\u001b[0m\u001b[0mmodel\u001b[0m\u001b[1;33m.\u001b[0m\u001b[0mlayers\u001b[0m\u001b[1;33m[\u001b[0m\u001b[1;36m0\u001b[0m\u001b[1;33m]\u001b[0m\u001b[1;33m.\u001b[0m\u001b[0mname\u001b[0m\u001b[1;33m]\u001b[0m\u001b[1;33m[\u001b[0m\u001b[1;36m0\u001b[0m\u001b[1;33m]\u001b[0m\u001b[1;33m\u001b[0m\u001b[1;33m\u001b[0m\u001b[0m\n\u001b[0;32m     11\u001b[0m         \u001b[0mweights\u001b[0m \u001b[1;33m=\u001b[0m \u001b[0mnp\u001b[0m\u001b[1;33m.\u001b[0m\u001b[0mcopy\u001b[0m\u001b[1;33m(\u001b[0m\u001b[0mweight_map\u001b[0m\u001b[1;33m[\u001b[0m\u001b[0mmodel\u001b[0m\u001b[1;33m.\u001b[0m\u001b[0mmodel\u001b[0m\u001b[1;33m.\u001b[0m\u001b[0mlayers\u001b[0m\u001b[1;33m[\u001b[0m\u001b[1;36m0\u001b[0m\u001b[1;33m]\u001b[0m\u001b[1;33m.\u001b[0m\u001b[0mname\u001b[0m\u001b[1;33m]\u001b[0m\u001b[1;33m)\u001b[0m\u001b[1;33m\u001b[0m\u001b[1;33m\u001b[0m\u001b[0m\n",
      "\u001b[1;32m<__array_function__ internals>\u001b[0m in \u001b[0;36mreshape\u001b[1;34m(*args, **kwargs)\u001b[0m\n",
      "\u001b[1;32mC:\\ProgramData\\Anaconda3\\lib\\site-packages\\numpy\\core\\fromnumeric.py\u001b[0m in \u001b[0;36mreshape\u001b[1;34m(a, newshape, order)\u001b[0m\n\u001b[0;32m    299\u001b[0m            [5, 6]])\n\u001b[0;32m    300\u001b[0m     \"\"\"\n\u001b[1;32m--> 301\u001b[1;33m     \u001b[1;32mreturn\u001b[0m \u001b[0m_wrapfunc\u001b[0m\u001b[1;33m(\u001b[0m\u001b[0ma\u001b[0m\u001b[1;33m,\u001b[0m \u001b[1;34m'reshape'\u001b[0m\u001b[1;33m,\u001b[0m \u001b[0mnewshape\u001b[0m\u001b[1;33m,\u001b[0m \u001b[0morder\u001b[0m\u001b[1;33m=\u001b[0m\u001b[0morder\u001b[0m\u001b[1;33m)\u001b[0m\u001b[1;33m\u001b[0m\u001b[1;33m\u001b[0m\u001b[0m\n\u001b[0m\u001b[0;32m    302\u001b[0m \u001b[1;33m\u001b[0m\u001b[0m\n\u001b[0;32m    303\u001b[0m \u001b[1;33m\u001b[0m\u001b[0m\n",
      "\u001b[1;32mC:\\ProgramData\\Anaconda3\\lib\\site-packages\\numpy\\core\\fromnumeric.py\u001b[0m in \u001b[0;36m_wrapfunc\u001b[1;34m(obj, method, *args, **kwds)\u001b[0m\n\u001b[0;32m     59\u001b[0m \u001b[1;33m\u001b[0m\u001b[0m\n\u001b[0;32m     60\u001b[0m     \u001b[1;32mtry\u001b[0m\u001b[1;33m:\u001b[0m\u001b[1;33m\u001b[0m\u001b[1;33m\u001b[0m\u001b[0m\n\u001b[1;32m---> 61\u001b[1;33m         \u001b[1;32mreturn\u001b[0m \u001b[0mbound\u001b[0m\u001b[1;33m(\u001b[0m\u001b[1;33m*\u001b[0m\u001b[0margs\u001b[0m\u001b[1;33m,\u001b[0m \u001b[1;33m**\u001b[0m\u001b[0mkwds\u001b[0m\u001b[1;33m)\u001b[0m\u001b[1;33m\u001b[0m\u001b[1;33m\u001b[0m\u001b[0m\n\u001b[0m\u001b[0;32m     62\u001b[0m     \u001b[1;32mexcept\u001b[0m \u001b[0mTypeError\u001b[0m\u001b[1;33m:\u001b[0m\u001b[1;33m\u001b[0m\u001b[1;33m\u001b[0m\u001b[0m\n\u001b[0;32m     63\u001b[0m         \u001b[1;31m# A TypeError occurs if the object does have such a method in its\u001b[0m\u001b[1;33m\u001b[0m\u001b[1;33m\u001b[0m\u001b[1;33m\u001b[0m\u001b[0m\n",
      "\u001b[1;31mValueError\u001b[0m: cannot reshape array of size 8699840 into shape (3508,2480,3)"
     ]
    }
   ],
   "source": [
    "h = 3508 \n",
    "w = 2480\n",
    "zoom = 0.5\n",
    "\n",
    "pixel_map = np.reshape(np.array(generate_pixel_map(w, h, zoom)), (h * w, model.model.input.shape[1]))\n",
    "\n",
    "for i in range(0, 240):\n",
    "        img = model.predict(pixel_map)\n",
    "        cv.imwrite(f'body_experiment_1/{i}.jpg', np.reshape((img*255).astype(int), (h, w, 3)))\n",
    "        weight_map[model.model.layers[0].name][0] += directions[model.model.layers[0].name][0]\n",
    "        weights = np.copy(weight_map[model.model.layers[0].name])\n",
    "        weights[0] = np.sin(weight_map[model.model.layers[0].name][0]) * 1.5\n",
    "        model.model.layers[0].set_weights(weights)\n",
    "        for lay in model.model.layers:\n",
    "            if 'dense' in lay.name and lay != model.model.layers[0]: \n",
    "                weight_map[lay.name] += directions[lay.name][0]\n",
    "                weights = np.copy(weight_map[lay.name])\n",
    "                weights[0] = np.sin(weight_map[lay.name][0]) * 1.5\n",
    "                lay.set_weights(weights)\n",
    "                \n"
   ]
  },
  {
   "cell_type": "code",
   "execution_count": null,
   "metadata": {},
   "outputs": [],
   "source": [
    "i = 0\n",
    "h = 512\n",
    "w = 512\n",
    "zoom = 0.5\n",
    "\n",
    "pixel_map = np.reshape(np.array(generate_pixel_map(w, h, 150, 150, zoom)), (h * w, model.model.input.shape[1]))\n",
    "\n",
    "for i in range(100):            \n",
    "    model = Model(1, 12, 16, 'tanh', RandomNormal, 0, 1)\n",
    "\n",
    "    img = model.predict(pixel_map)\n",
    "    cv.imwrite(f'squares/{i}.jpg', np.reshape((img*255).astype(int), (h, w, 3)))"
   ]
  },
  {
   "cell_type": "code",
   "execution_count": null,
   "metadata": {},
   "outputs": [],
   "source": [
    "i = 0\n",
    "h = 4962\n",
    "w = 3606\n",
    "zoom = 0.5\n",
    "\n",
    "pixel_map = np.reshape(np.array(generate_pixel_map(w, h, zoom)), (h * w, model.model.input.shape[1]))\n",
    "print('Pixel map is generated')\n",
    "\n",
    "for i in range(24, 100):            \n",
    "    model = Model(3, 12, 16, 'tanh', RandomNormal, 0, 1)\n",
    "\n",
    "    img = model.predict(pixel_map)\n",
    "    cv.imwrite(f'body_experiment_2/{i}.jpg', np.reshape((img*255).astype(int), (h, w, 3)))"
   ]
  },
  {
   "cell_type": "code",
   "execution_count": null,
   "metadata": {},
   "outputs": [],
   "source": [
    "h = 842\n",
    "w = 595\n",
    "\n",
    "for i in range(50):\n",
    "    key_1 = [random()-0.5 for i in range(10)]\n",
    "    key_2 = [random()-0.5 for i in range(10)]\n",
    "    \n",
    "    model = Model(13, 12, 16, 'tanh', RandomNormal, 0, 1)\n",
    "\n",
    "    pixel_map_1 = np.reshape(np.array(generate_pixel_map(w, h, key_1, 0.5)), (h * w, model.model.input.shape[1]))\n",
    "    pixel_map_2 = np.reshape(np.array(generate_pixel_map(w, h, key_2, 0.5)), (h * w, model.model.input.shape[1]))\n",
    "\n",
    "    img = model.predict(pixel_map_1)\n",
    "    cv.imwrite(f'key_experiment/{i}_0.jpg', np.reshape((img*255).astype(int), (h, w)))\n",
    "\n",
    "    img = model.predict(pixel_map_2)\n",
    "    cv.imwrite(f'key_experiment/{i}_1.jpg', np.reshape((img*255).astype(int), (h, w)))\n",
    "\n",
    "    key_child = key_1[:5]+key_2[5:]\n",
    "\n",
    "    pixel_map_child = np.reshape(np.array(generate_pixel_map(w, h, key_child, 0.5)), (h * w, model.model.input.shape[1]))\n",
    "\n",
    "    img = model.predict(pixel_map_child)\n",
    "    cv.imwrite(f'key_experiment/{i}_child.jpg', np.reshape((img*255).astype(int), (h, w)))"
   ]
  },
  {
   "cell_type": "code",
   "execution_count": null,
   "metadata": {},
   "outputs": [],
   "source": [
    "weights_child = (np.array(weights_child)+np.array(weights_2))/2\n",
    "\n",
    "model.model.set_weights(weights_child)\n",
    "\n",
    "img = model.predict(pixel_map)\n",
    "cv.imwrite(f'key_experiment/child2.jpg', np.reshape((img*255).astype(int), (h, w, 3)))"
   ]
  },
  {
   "cell_type": "code",
   "execution_count": null,
   "metadata": {},
   "outputs": [],
   "source": [
    "key_child"
   ]
  },
  {
   "cell_type": "code",
   "execution_count": null,
   "metadata": {},
   "outputs": [],
   "source": [
    "weights = model.model.get_weights()"
   ]
  },
  {
   "cell_type": "code",
   "execution_count": null,
   "metadata": {},
   "outputs": [],
   "source": [
    "np.array(weights)/2"
   ]
  },
  {
   "cell_type": "code",
   "execution_count": null,
   "metadata": {},
   "outputs": [],
   "source": [
    "weights"
   ]
  },
  {
   "cell_type": "code",
   "execution_count": null,
   "metadata": {},
   "outputs": [],
   "source": [
    "key_child = key_1[:5]+key_2[5:]"
   ]
  },
  {
   "cell_type": "code",
   "execution_count": null,
   "metadata": {},
   "outputs": [],
   "source": [
    "key_child"
   ]
  },
  {
   "cell_type": "code",
   "execution_count": null,
   "metadata": {},
   "outputs": [],
   "source": [
    "key_2"
   ]
  },
  {
   "cell_type": "code",
   "execution_count": null,
   "metadata": {},
   "outputs": [],
   "source": [
    "[1,2,3]+[4,5,6]"
   ]
  },
  {
   "cell_type": "code",
   "execution_count": null,
   "metadata": {},
   "outputs": [],
   "source": []
  }
 ],
 "metadata": {
  "kernelspec": {
   "display_name": "Python 3",
   "language": "python",
   "name": "python3"
  },
  "language_info": {
   "codemirror_mode": {
    "name": "ipython",
    "version": 3
   },
   "file_extension": ".py",
   "mimetype": "text/x-python",
   "name": "python",
   "nbconvert_exporter": "python",
   "pygments_lexer": "ipython3",
   "version": "3.7.4"
  }
 },
 "nbformat": 4,
 "nbformat_minor": 2
}
